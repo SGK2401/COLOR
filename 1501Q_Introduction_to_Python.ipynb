{
  "nbformat": 4,
  "nbformat_minor": 0,
  "metadata": {
    "colab": {
      "provenance": [],
      "include_colab_link": true
    },
    "kernelspec": {
      "name": "python3",
      "display_name": "Python 3"
    },
    "language_info": {
      "name": "python"
    }
  },
  "cells": [
    {
      "cell_type": "markdown",
      "metadata": {
        "id": "view-in-github",
        "colab_type": "text"
      },
      "source": [
        "<a href=\"https://colab.research.google.com/github/SGK2401/COLOR/blob/main/1501Q_Introduction_to_Python.ipynb\" target=\"_parent\"><img src=\"https://colab.research.google.com/assets/colab-badge.svg\" alt=\"Open In Colab\"/></a>"
      ]
    },
    {
      "cell_type": "markdown",
      "metadata": {
        "id": "uRdfa1hzN_aX"
      },
      "source": [
        "---\n",
        "\n",
        "<h1>$\\text{Introduction to Python}$</h1>\n",
        "\n",
        "---"
      ]
    },
    {
      "cell_type": "markdown",
      "metadata": {
        "id": "yAJf1_ran2gL"
      },
      "source": [
        "\n",
        "---\n",
        "\n",
        "<a rel=\"license\" href=\"http://creativecommons.org/licenses/by-nc-sa/4.0/\"><img alt=\"Creative Commons License\" style=\"border-width:0\" src=\"https://i.creativecommons.org/l/by-nc-sa/4.0/80x15.png\" /></a><br /><span xmlns:dct=\"http://purl.org/dc/terms/\" property=\"dct:title\">UConn PHYS1501Q Teaching Colab Files</span> by <span xmlns:cc=\"http://creativecommons.org/ns#\" property=\"cc:attributionName\">A. Daniels, Z. Transport, H. Morrill, J. Jaconetta, M. Phelps, J. Hancock, A. Mathioudakis</span> is licensed under a <a rel=\"license\" href=\"http://creativecommons.org/licenses/by-nc-sa/4.0/\">Creative Commons Attribution-NonCommercial-ShareAlike 4.0 International License</a>.\n",
        "\n",
        "---\n"
      ]
    },
    {
      "cell_type": "markdown",
      "metadata": {
        "id": "B9o2xKYvAFSX"
      },
      "source": [
        "Before you begin, go to the \"**File**\" menu above, and click on \"**Save a copy in Drive**\".   If you forget to do this step, you may end up losing your work!\n"
      ]
    },
    {
      "cell_type": "code",
      "metadata": {
        "id": "O51v5C3_9Xx4",
        "cellView": "form"
      },
      "source": [
        "#@title <font color=\"red\"> Make a copy of this file before proceeding!\n",
        "\n",
        "Section = \"--- no selection ---\" #@param [\"--- no selection ---\", \"001 - MoWeTh 10:10am-12:05pm\", \"002 - MoWeTh 12:20pm-2:15pm\", \"003 - MoWeTh 2:30pm-4:25pm\", \"004 - MoWeTh 4:40pm-6:35pm\", \"005 - TuThFr 8:00am-9:55am\", \"006 - TuThFr 10:10am-12:05pm\", \"007 - TuThFr 12:20pm-2:15pm\"]\n",
        "Student_Name = \"Name\" #@param {type:\"string\"}"
      ],
      "execution_count": null,
      "outputs": []
    },
    {
      "cell_type": "markdown",
      "metadata": {
        "id": "eGwMrb5NBQkZ"
      },
      "source": [
        "---\n",
        "\n",
        "<h1>$\\text{Learning Objectives}$</h1>\n",
        "\n",
        "---"
      ]
    },
    {
      "cell_type": "markdown",
      "metadata": {
        "id": "q2gw9iCTi85b"
      },
      "source": [
        "By the end of this introduction, you will be able to:\n",
        "\n",
        "* Identify data types and describe situations in which they are used\n",
        "* Identify and resolve simple syntax errors\n",
        "* Define variables and create functions to perform calculations in Python\n",
        "* Enter data into lists and arrays to perform calculations\n",
        "* Create a plot of data stored in a list or array"
      ]
    },
    {
      "cell_type": "markdown",
      "metadata": {
        "id": "6LLxwnWUBiLQ"
      },
      "source": [
        "This assignment is an overview of introductory `Python` material.  For a full review of `Python`, see the \"Introduction to Python\" section of your lab manual."
      ]
    },
    {
      "cell_type": "markdown",
      "metadata": {
        "id": "xI6o3Zvu1ueS"
      },
      "source": [
        "\n",
        "\n",
        "---\n",
        "\n",
        "<h1>$\\text{Basics}$</h1>\n",
        "\n",
        "---\n",
        "\n"
      ]
    },
    {
      "cell_type": "markdown",
      "metadata": {
        "id": "IzH58N1aghlK"
      },
      "source": [
        "Welcome to the Google Colab `Python` Notebook environment! Here, the language you will be writing your code in is called `Python`. `Python` is the programming language we will be using in the laboratory to analyze data, create graphs, calculate error, visualize relationships between variables, and much more."
      ]
    },
    {
      "cell_type": "markdown",
      "metadata": {
        "id": "xLoiulgezg76"
      },
      "source": [
        "\n",
        "\n",
        "---\n",
        "\n",
        "<h2>$\\text{Input/Output}$</h2>\n",
        "\n",
        "---\n",
        "\n"
      ]
    },
    {
      "cell_type": "markdown",
      "metadata": {
        "id": "5La4EfCHo6ZU"
      },
      "source": [
        "Unlike traditional `Python` code, Google Colab allows us to break up our code blocks with text (such as this text cell).\n",
        "\n",
        "Rather than execute an entire script, each block of code is executed individually. To run your code in the cell you are working on, press `Shift+Enter` on your keyboard or press the \"play\" arrow <img src=\"https://drive.google.com/uc?id=1p_-EqzaDj0MNnNE3C5e6rMFv6CbaAHuF\" width=\"25px\" align=\"center\"> button in the top left corner.\n",
        "\n",
        "In the cell below, enter any random number that you like. Then press `Shift+Enter` or press the \"play\" arrow <img src=\"https://drive.google.com/uc?id=1p_-EqzaDj0MNnNE3C5e6rMFv6CbaAHuF\" width=\"25px\" align=\"center\"> button in the top left corner."
      ]
    },
    {
      "cell_type": "code",
      "metadata": {
        "id": "jE3EMXwcHYoQ"
      },
      "source": [
        "#Enter a number on the line below:\n"
      ],
      "execution_count": null,
      "outputs": []
    },
    {
      "cell_type": "markdown",
      "metadata": {
        "id": "xznsZeQ6VC_t"
      },
      "source": [
        "Notice how the input line changes from `[ ]` to brackets with a number once the cell has been run? The order in which the cells have been run can be determined by the number in the brackets. Every time a cell is run, the output counter increases by 1."
      ]
    },
    {
      "cell_type": "markdown",
      "metadata": {
        "id": "AzLqUD6RVVHd"
      },
      "source": [
        "**Remember:** The cells also follow a hierarchy. To collapse a section, click on the ▾ to the left of one of the larger section headers. Click again to expand."
      ]
    },
    {
      "cell_type": "markdown",
      "metadata": {
        "id": "SiZpDuohe82J"
      },
      "source": [
        "\n",
        "\n",
        "---\n",
        "\n",
        "<h2>$\\text{Datatypes}$</h2>\n",
        "\n",
        "---\n",
        "\n"
      ]
    },
    {
      "cell_type": "markdown",
      "metadata": {
        "id": "IoI_8uRFe_XI"
      },
      "source": [
        "There are three types of data you'll use in `Python`: strings, integers, and floats.  **Strings** are sequences of characters surrounded by quotation marks.  You will be using strings as labels.  Below is an example of a string:"
      ]
    },
    {
      "cell_type": "code",
      "metadata": {
        "id": "_BBNNNjkfze1"
      },
      "source": [
        "\"hello, world\""
      ],
      "execution_count": null,
      "outputs": []
    },
    {
      "cell_type": "markdown",
      "metadata": {
        "id": "8DxRY8c0f3kl"
      },
      "source": [
        "**Integers** are whole numbers that can be positive or negative.  They are just numbers without decimal points.  Below is an example of an integer:"
      ]
    },
    {
      "cell_type": "code",
      "metadata": {
        "id": "11c3fCJdgh-c"
      },
      "source": [
        "36"
      ],
      "execution_count": null,
      "outputs": []
    },
    {
      "cell_type": "markdown",
      "metadata": {
        "id": "Xsazk5FBgkwk"
      },
      "source": [
        "**Floats** (which is shorthand for **floating point numbers**) are numbers that utilize a decimal point.  Below is an example of a float:"
      ]
    },
    {
      "cell_type": "code",
      "metadata": {
        "id": "udf0fv_thDQM"
      },
      "source": [
        "4.156"
      ],
      "execution_count": null,
      "outputs": []
    },
    {
      "cell_type": "markdown",
      "metadata": {
        "id": "Wq2VA_ylhRt6"
      },
      "source": [
        "---\n",
        "> * Q1: **Does the code below contain a string, integer, or a float?**"
      ]
    },
    {
      "cell_type": "code",
      "metadata": {
        "id": "mB2Q32jY9ZN4"
      },
      "source": [
        "17.1"
      ],
      "execution_count": null,
      "outputs": []
    },
    {
      "cell_type": "code",
      "metadata": {
        "id": "5bHqbVDAhbte",
        "cellView": "form"
      },
      "source": [
        "Q1 = \"\" #@param {type:\"string\"}\n",
        "\n"
      ],
      "execution_count": null,
      "outputs": []
    },
    {
      "cell_type": "markdown",
      "metadata": {
        "id": "AmBvS6OY9dvX"
      },
      "source": [
        "---"
      ]
    },
    {
      "cell_type": "markdown",
      "metadata": {
        "id": "wxKw8YA5mLf3"
      },
      "source": [
        "---\n",
        "> * Q2: **Does the code below contain a string, integer, or a float?**"
      ]
    },
    {
      "cell_type": "code",
      "metadata": {
        "id": "_4ymPuZ_hQCL"
      },
      "source": [
        "\"44.3\""
      ],
      "execution_count": null,
      "outputs": []
    },
    {
      "cell_type": "code",
      "metadata": {
        "cellView": "form",
        "id": "pbxS6YC6mX9T"
      },
      "source": [
        "Q2 = \"\" #@param {type:\"string\"}\n",
        "\n"
      ],
      "execution_count": null,
      "outputs": []
    },
    {
      "cell_type": "markdown",
      "metadata": {
        "id": "3V9-O1xJCo0H"
      },
      "source": [
        "---"
      ]
    },
    {
      "cell_type": "markdown",
      "metadata": {
        "id": "k_pBDSnJ17dq"
      },
      "source": [
        "\n",
        "\n",
        "---\n",
        "\n",
        "<h2>$\\text{Calculator}$</h2>\n",
        "\n",
        "---\n",
        "\n"
      ]
    },
    {
      "cell_type": "markdown",
      "metadata": {
        "id": "em0F2G_e4Bie"
      },
      "source": [
        "`Python` can function as an ordinary calculator.  You can add, subtract, multiply, and divide numbers."
      ]
    },
    {
      "cell_type": "markdown",
      "metadata": {
        "id": "iRS3svKu4Puc"
      },
      "source": [
        "Execute the input cells below (`Shift+Enter` or <img src=\"https://drive.google.com/uc?id=1p_-EqzaDj0MNnNE3C5e6rMFv6CbaAHuF\" width=\"25px\" align=\"center\">)."
      ]
    },
    {
      "cell_type": "code",
      "metadata": {
        "id": "CR3vSSI_4gOs"
      },
      "source": [
        "3*10/2"
      ],
      "execution_count": null,
      "outputs": []
    },
    {
      "cell_type": "markdown",
      "metadata": {
        "id": "Q9d8_92zvN8W"
      },
      "source": [
        "**Remember:** always add an `*` when you want to multiply an expression in parentheses. Unlike your calculator, `Python` must be told when to multiply by using an asterisk `*`, even when parentheses are present. Otherwise, `Python` will interpret the code as a function.  Running the cell below will result in an error message and will point to the line of code that needs to be fixed. Run the code to see the error message and then fix the code in the cell so that it runs without any errors."
      ]
    },
    {
      "cell_type": "code",
      "metadata": {
        "id": "JGeuFeRu3-JG"
      },
      "source": [
        "5(3+2)"
      ],
      "execution_count": null,
      "outputs": []
    },
    {
      "cell_type": "markdown",
      "metadata": {
        "id": "t7HtkufkuBEq"
      },
      "source": [
        "---\n",
        "> * Q3: **Calculate $$\\left(\\frac{44}{2}-6\\right)*2$$ in the code block below, and write the answer in the text box:**\n",
        ">\n",
        "> *(**Note:** You must clear the contents of the code cell below and remove the entire `\"insert math here\"` string. Then, you can enter your calculation in the code block below. Finally, enter the output in the **Q3** box.)*"
      ]
    },
    {
      "cell_type": "code",
      "metadata": {
        "id": "DL33ssJ6cGZI"
      },
      "source": [
        "\"insert math here\""
      ],
      "execution_count": null,
      "outputs": []
    },
    {
      "cell_type": "code",
      "metadata": {
        "cellView": "form",
        "id": "m91rlv5hdogf"
      },
      "source": [
        "Q3 = \"\" #@param {type:\"string\"}\n",
        "\n"
      ],
      "execution_count": null,
      "outputs": []
    },
    {
      "cell_type": "markdown",
      "metadata": {
        "id": "JDnCg4VFLAPT"
      },
      "source": [
        "\n",
        "\n",
        "---\n",
        "\n"
      ]
    },
    {
      "cell_type": "markdown",
      "metadata": {
        "id": "DuTQOIW04vKb"
      },
      "source": [
        "To perform exponential operations, `Python` uses the format `**` to represent `^`, which is the symbol used by most calculators."
      ]
    },
    {
      "cell_type": "code",
      "metadata": {
        "id": "0HdDMgyU4scz"
      },
      "source": [
        "(3**2+1)/2"
      ],
      "execution_count": null,
      "outputs": []
    },
    {
      "cell_type": "markdown",
      "metadata": {
        "id": "5vcYEf9b5Lq6"
      },
      "source": [
        "Proper use of parentheses is important. The expression above different than the expression below. Use `Shift+Enter` or <img src=\"https://drive.google.com/uc?id=1p_-EqzaDj0MNnNE3C5e6rMFv6CbaAHuF\" width=\"25px\" align=\"center\"> to execute."
      ]
    },
    {
      "cell_type": "code",
      "metadata": {
        "id": "jv53xar35PDU"
      },
      "source": [
        "3**2+1/2"
      ],
      "execution_count": null,
      "outputs": []
    },
    {
      "cell_type": "markdown",
      "metadata": {
        "id": "nNw2B13ZcVjU"
      },
      "source": [
        "---\n",
        "> * Q4: **Calculate $$\\frac{1}{2^5+1}$$ in the code block below, and write the answer in the text box:**\n",
        ">\n",
        "> *(**Note:** You must clear the contents of the code cell below and remove the entire `\"insert math here\"` string. Then, you can enter your calculation in the code block below. Finally, enter the output in the **Q4** box.)*"
      ]
    },
    {
      "cell_type": "code",
      "metadata": {
        "id": "r99RikhJcrm_"
      },
      "source": [
        "\"insert math here\""
      ],
      "execution_count": null,
      "outputs": []
    },
    {
      "cell_type": "code",
      "metadata": {
        "cellView": "form",
        "id": "B8t3zEln96c-"
      },
      "source": [
        "Q4 = \"\" #@param {type:\"string\"}\n",
        "\n"
      ],
      "execution_count": null,
      "outputs": []
    },
    {
      "cell_type": "markdown",
      "metadata": {
        "id": "piN5gOmDLCuR"
      },
      "source": [
        "\n",
        "\n",
        "---\n",
        "\n"
      ]
    },
    {
      "cell_type": "markdown",
      "metadata": {
        "id": "d66SySOP_GDL"
      },
      "source": [
        "\n",
        "\n",
        "---\n",
        "\n",
        "<h2>$\\text{Packages}$</h2>\n",
        "\n",
        "---\n",
        "\n"
      ]
    },
    {
      "cell_type": "markdown",
      "metadata": {
        "id": "zrvalxbYrE03"
      },
      "source": [
        "Now, lets try writing some code. Unlike MATLAB or Mathematica, `Python` is open-source, meaning anyone can contribute there own modules that are useful for certain tasks. We will mainly be using `numpy`, which is a Python-based ecosystem of open-source software for mathematics. In `Python` we use the `import` command to let Colab know where we want to import from."
      ]
    },
    {
      "cell_type": "code",
      "metadata": {
        "id": "t5XF0CTEeruf"
      },
      "source": [
        "import numpy as np"
      ],
      "execution_count": null,
      "outputs": []
    },
    {
      "cell_type": "markdown",
      "metadata": {
        "id": "010fQM5guLtm"
      },
      "source": [
        "Now that `numpy` is loaded, let's start to do some basic calculations.  We can call on `numpy` functions using the command `np.` in our code."
      ]
    },
    {
      "cell_type": "markdown",
      "metadata": {
        "id": "dSD67XYgAA2S"
      },
      "source": [
        "For example, we may evaluate the cosine of 0 as `np.cos(0)`."
      ]
    },
    {
      "cell_type": "code",
      "metadata": {
        "id": "VMZ1WcWyAGFy"
      },
      "source": [
        "np.cos(0)"
      ],
      "execution_count": null,
      "outputs": []
    },
    {
      "cell_type": "markdown",
      "metadata": {
        "id": "ie8cjFaLALUC"
      },
      "source": [
        "Further examples:"
      ]
    },
    {
      "cell_type": "code",
      "metadata": {
        "id": "cIn73O2mAPBC"
      },
      "source": [
        "np.exp(3)"
      ],
      "execution_count": null,
      "outputs": []
    },
    {
      "cell_type": "code",
      "metadata": {
        "id": "o35gzoqfATB6"
      },
      "source": [
        "np.sqrt(9)"
      ],
      "execution_count": null,
      "outputs": []
    },
    {
      "cell_type": "markdown",
      "metadata": {
        "id": "wWt_FopZAZXy"
      },
      "source": [
        "In this example, `log(x)` denotes the natural log, $\\ln(x)$, while `log10(x)` denotes $\\log_{10}(x)$."
      ]
    },
    {
      "cell_type": "code",
      "metadata": {
        "id": "oDDMOb8ZAVyU"
      },
      "source": [
        "np.log(2)"
      ],
      "execution_count": null,
      "outputs": []
    },
    {
      "cell_type": "code",
      "metadata": {
        "id": "-DgxbXaWAX0y"
      },
      "source": [
        "np.log10(2)"
      ],
      "execution_count": null,
      "outputs": []
    },
    {
      "cell_type": "markdown",
      "metadata": {
        "id": "LyR-f8cVeL1D"
      },
      "source": [
        "---\n",
        "> * Q5: **Calculate $$\\sqrt{2}\\sin(0.5)$$ in the code block below, and write the answer in the text box:**\n",
        ">\n",
        "> *(**Note:** You must clear the contents of the code cell below and remove the entire `\"insert math here\"` string. Then, you can enter your calculation in the code block below. Finally, enter the output in the **Q5** box.)*\n",
        "\n"
      ]
    },
    {
      "cell_type": "code",
      "metadata": {
        "id": "uGxbY-LmeN5p"
      },
      "source": [
        "\"insert math here\""
      ],
      "execution_count": null,
      "outputs": []
    },
    {
      "cell_type": "code",
      "metadata": {
        "cellView": "form",
        "id": "pB7erlxoeP_9"
      },
      "source": [
        "Q5 = \"\" #@param {type:\"string\"}\n",
        "\n"
      ],
      "execution_count": null,
      "outputs": []
    },
    {
      "cell_type": "markdown",
      "metadata": {
        "id": "aRScn5jpLLbF"
      },
      "source": [
        "\n",
        "\n",
        "---\n",
        "\n"
      ]
    },
    {
      "cell_type": "markdown",
      "metadata": {
        "id": "Jp-nSeeuBmGs"
      },
      "source": [
        "\n",
        "\n",
        "---\n",
        "\n",
        "<h1>$\\text{Defining Variables}$</h1>\n",
        "\n",
        "---\n",
        "\n"
      ]
    },
    {
      "cell_type": "markdown",
      "metadata": {
        "id": "C8h7LzpmBrYL"
      },
      "source": [
        "To define variables, we simply use `=`."
      ]
    },
    {
      "cell_type": "markdown",
      "metadata": {
        "id": "3RiLF0ndB9Ua"
      },
      "source": [
        "For example, we can assign the value of 3 to variable `a` and 4 to `b`. The green line at the top of the code block is called a comment. To make a comment, you must begin the line with a single `#`. Keep these brief but make sure they are clear. Comments are not only for you (so that you can remember what your code does) but also for anyone else that looks at your code. As it's not always clear what someone else's code is doing, commenting on your code is a way of communicating with the person running the code exactly what each block of code is doing."
      ]
    },
    {
      "cell_type": "code",
      "metadata": {
        "id": "XwK2B34JfFCK"
      },
      "source": [
        "# Let a = 3 and b = 4.\n",
        "\n",
        "a = 3\n",
        "b = 4"
      ],
      "execution_count": null,
      "outputs": []
    },
    {
      "cell_type": "markdown",
      "metadata": {
        "id": "FPL1JikBCftz"
      },
      "source": [
        "Once we execute the cell, we have stored our variables `a` and `b` as numerical values within the computer. When we call upon them again, it \"remembers\"."
      ]
    },
    {
      "cell_type": "code",
      "metadata": {
        "id": "nfsRvZsMCrFC"
      },
      "source": [
        "a"
      ],
      "execution_count": null,
      "outputs": []
    },
    {
      "cell_type": "markdown",
      "metadata": {
        "id": "lL-ZI2i4IMgE"
      },
      "source": [
        "Unlike some languages, you do not need to end each line with a semi-colon (`;`). Unless the end of your code block ends with a variable to print, Colab will hide the output when the block is run. However, using a semi-colon will surpress, or hide, the output if it is the last character in your code.\n",
        "\n",
        "For example, try to print the stored `b` variable now."
      ]
    },
    {
      "cell_type": "code",
      "metadata": {
        "id": "PVKwu2SMJHVa"
      },
      "source": [
        "b;"
      ],
      "execution_count": null,
      "outputs": []
    },
    {
      "cell_type": "markdown",
      "metadata": {
        "id": "wc9CC0DUPVjb"
      },
      "source": [
        "As you can see, because of the semi-colon, the output for this cell is surpressed."
      ]
    },
    {
      "cell_type": "markdown",
      "metadata": {
        "id": "NN8rBtAVxEly"
      },
      "source": [
        "Let's write another line of code to find the square root of the sum of two squares,  `a` and `b`, and store the result as a variable, `c`, as well.\n",
        "$$c = \\sqrt{a^{2} + b^{2}}$$"
      ]
    },
    {
      "cell_type": "code",
      "metadata": {
        "id": "C7bbgCsbfS0Y"
      },
      "source": [
        "c = np.sqrt(a**2 + b**2)"
      ],
      "execution_count": null,
      "outputs": []
    },
    {
      "cell_type": "markdown",
      "metadata": {
        "id": "71v-o2AyysCO"
      },
      "source": [
        "As you can see, although we stored our computation we haven't yet been shown the result. To do this we can use the `print()` function to display the variable `c`."
      ]
    },
    {
      "cell_type": "code",
      "metadata": {
        "id": "ZF9v7LTzfTMJ"
      },
      "source": [
        "print(c)"
      ],
      "execution_count": null,
      "outputs": []
    },
    {
      "cell_type": "markdown",
      "metadata": {
        "id": "NBP1Sg0fhynB"
      },
      "source": [
        "---\n",
        "> * Q6: **Calculate: $$b\\left(\\frac{c}{a}\\right)$$ in the code block below, and write the answer in the text box:**\n",
        ">\n",
        "> *(**Note:** You must clear the contents of the code cell below and remove the entire `\"insert math here\"` string. Then, you can enter your calculation in the code block below. Finally, enter the output in the **Q6** box.)*"
      ]
    },
    {
      "cell_type": "code",
      "metadata": {
        "id": "cndX4Z2TitWp"
      },
      "source": [
        "\"insert math here\""
      ],
      "execution_count": null,
      "outputs": []
    },
    {
      "cell_type": "code",
      "metadata": {
        "cellView": "form",
        "id": "j92OVBU3hvjv"
      },
      "source": [
        "Q6 = \"\" #@param {type:\"string\"}\n",
        "\n"
      ],
      "execution_count": null,
      "outputs": []
    },
    {
      "cell_type": "markdown",
      "metadata": {
        "id": "I_Kt1098LRYW"
      },
      "source": [
        "\n",
        "\n",
        "---\n",
        "\n"
      ]
    },
    {
      "cell_type": "markdown",
      "metadata": {
        "id": "mGA-bw1f2sQy"
      },
      "source": [
        "\n",
        "---\n",
        "\n",
        "<h1>$\\text{Creating Functions}$</h1>\n",
        "\n",
        "---\n",
        "\n"
      ]
    },
    {
      "cell_type": "markdown",
      "metadata": {
        "id": "wZxTyWxR3Qf7"
      },
      "source": [
        "Now that we have seen functions from `numpy` to perform calculations, let's write a function of our own. Execute the cell below to define the function $f(x)=x^2$."
      ]
    },
    {
      "cell_type": "code",
      "metadata": {
        "id": "fIds19fW3LvH"
      },
      "source": [
        "def testfunction(x):\n",
        "  return x**2"
      ],
      "execution_count": null,
      "outputs": []
    },
    {
      "cell_type": "markdown",
      "metadata": {
        "id": "pS_cieTE3-36"
      },
      "source": [
        "Let's break down the part of how this function is structured. In `Python` a function is defined using the `def` keyword.\n",
        "\n",
        "The next part of the syntax is where you name your function. In this case, `testfunction`.\n",
        "\n",
        "Information can be passed to functions as parameter. Here, we are using `x`. Parameters are specified after the function name, inside the parentheses. You can add as many parameters as you want, just separate them with a comma.\n",
        "\n",
        "To let a function return a value after performing calculations, use the `return` statement. Enter the calculation(s) you would like your function to perform after the return statement."
      ]
    },
    {
      "cell_type": "markdown",
      "metadata": {
        "id": "k_MKQSxF7WaA"
      },
      "source": [
        "Test out the `testfunction`."
      ]
    },
    {
      "cell_type": "code",
      "metadata": {
        "id": "FnLPhWJH3xlR"
      },
      "source": [
        "testfunction(3)"
      ],
      "execution_count": null,
      "outputs": []
    },
    {
      "cell_type": "code",
      "metadata": {
        "id": "pNgOh0it7nxr"
      },
      "source": [
        "testfunction(5.5)"
      ],
      "execution_count": null,
      "outputs": []
    },
    {
      "cell_type": "markdown",
      "metadata": {
        "id": "oCJwbNDo7ruJ"
      },
      "source": [
        "---\n",
        "> * Q7: **In cell below, create a function of a single variable named `myfunction` which represents $$f(x)=\\dfrac{1}{x}+x$$ Then, in the same cell, evaluate the function at $x=5$.**\n",
        ">\n",
        "> *(**Note:** You must clear the contents of the code cell below and remove the entire `\"insert math here\"` string. Then, you can define your function in the code block below and call your function for the specified value. Finally, enter the output in the **Q7** box.)*"
      ]
    },
    {
      "cell_type": "code",
      "metadata": {
        "id": "xyS_d_7-7-Lh"
      },
      "source": [
        "\"insert math here\""
      ],
      "execution_count": null,
      "outputs": []
    },
    {
      "cell_type": "code",
      "metadata": {
        "id": "fcgUugSh6OCe",
        "cellView": "form"
      },
      "source": [
        "Q7 = \"\" #@param {type:\"string\"}"
      ],
      "execution_count": null,
      "outputs": []
    },
    {
      "cell_type": "markdown",
      "metadata": {
        "id": "M5uv-_IMLmLj"
      },
      "source": [
        "\n",
        "\n",
        "---\n",
        "\n"
      ]
    },
    {
      "cell_type": "markdown",
      "metadata": {
        "id": "wy4fsPxFKxZE"
      },
      "source": [
        "\n",
        "\n",
        "---\n",
        "\n",
        "<h1>$\\text{Lists}$</h1>\n",
        "\n",
        "---\n",
        "\n"
      ]
    },
    {
      "cell_type": "markdown",
      "metadata": {
        "id": "mM6p9zwrK2ga"
      },
      "source": [
        "In future labs, we will acquire large amounts of data in the form of lists or arrays. `Python` takes a ordered list (1, 2, 3, 4, 5) using the syntax `[i_1, i_2, ..., i_n]`. Note the form of the list."
      ]
    },
    {
      "cell_type": "code",
      "metadata": {
        "id": "dx9RHNbYLUCx",
        "cellView": "both"
      },
      "source": [
        "mylist = [1,2,3,4,5]"
      ],
      "execution_count": null,
      "outputs": []
    },
    {
      "cell_type": "markdown",
      "metadata": {
        "id": "LNjDiWmsMdl6"
      },
      "source": [
        "\n",
        "\n",
        "---\n",
        "\n",
        "<h2>$\\text{Length of a List}$</h2>\n",
        "\n",
        "---\n",
        "\n"
      ]
    },
    {
      "cell_type": "markdown",
      "metadata": {
        "id": "HhogfqesMicq"
      },
      "source": [
        "Given our list `list = [1,2,3,4,5]`, we can find the length of this list, i.e. the total number of elements, with the function `len()`."
      ]
    },
    {
      "cell_type": "code",
      "metadata": {
        "id": "KyQLLzbQLrtz"
      },
      "source": [
        "len(mylist)"
      ],
      "execution_count": null,
      "outputs": []
    },
    {
      "cell_type": "markdown",
      "metadata": {
        "id": "GdIOg7EVNHNj"
      },
      "source": [
        "\n",
        "\n",
        "---\n",
        "\n",
        "<h2>$\\text{List Indexing}$</h2>\n",
        "\n",
        "---\n",
        "\n"
      ]
    },
    {
      "cell_type": "markdown",
      "metadata": {
        "id": "-4a6AjbJNMBa"
      },
      "source": [
        "Let us start with a random collection of values, stored in the list-type variable named `example`."
      ]
    },
    {
      "cell_type": "code",
      "metadata": {
        "id": "oUFOoloCNU7C"
      },
      "source": [
        "example = [8, 11, 8, 11, 10, 5, 9, 7, 10, 12, 4, 5, 12, 14, 10,\n",
        "           7, 14, 6, 10, 10, 7, 11, 6, 12, 10, 17, 8, 6, 11, 13,\n",
        "           13, 9, 11, 7, 13, 10, 12, 6, 14, 12, 11, 9, 12, 15, 10,\n",
        "           6, 7, 7, 11, 14, 6, 12, 7, 6, 10, 10, 11, 16, 12, 14,\n",
        "           9, 12, 7, 14, 7, 16, 10, 9, 9, 8, 14, 8, 5, 14, 10, 7,\n",
        "           10, 9, 13, 12, 9, 11, 9, 7, 13, 12, 6, 12, 8, 12, 8,\n",
        "           10, 7, 7, 10, 9, 12, 11, 7, 9]"
      ],
      "execution_count": null,
      "outputs": []
    },
    {
      "cell_type": "markdown",
      "metadata": {
        "id": "NwkY22FcNvBa"
      },
      "source": [
        "To access any individual element of this list, we use one set of brackets, i.e. `example[i]` returns the $i^\\text{th}$ element of the list `example`.\n",
        "\n",
        "Unlike Mathematica and MATLAB, `Python` begins indexing at 0, not at 1. Thus, the first element of our list will have an index number of 0. Check to make sure that the code matches your expectation."
      ]
    },
    {
      "cell_type": "code",
      "metadata": {
        "id": "bHsBcSRdNuE6"
      },
      "source": [
        "example[0]"
      ],
      "execution_count": null,
      "outputs": []
    },
    {
      "cell_type": "markdown",
      "metadata": {
        "id": "hH4-5yH3PDFa"
      },
      "source": [
        "Sample the 7th element of the list `example` below."
      ]
    },
    {
      "cell_type": "code",
      "metadata": {
        "id": "-CF8u0X7N3dz"
      },
      "source": [
        "example[6]"
      ],
      "execution_count": null,
      "outputs": []
    },
    {
      "cell_type": "markdown",
      "metadata": {
        "id": "OZzDXKr6PjUK"
      },
      "source": [
        "We can also have a list with two indices. For example,"
      ]
    },
    {
      "cell_type": "code",
      "metadata": {
        "id": "sXLiP612PmBq"
      },
      "source": [
        "sample = [[3, 2], [4, 5], [7, 1]]"
      ],
      "execution_count": null,
      "outputs": []
    },
    {
      "cell_type": "markdown",
      "metadata": {
        "id": "pqrrhwVvP4cJ"
      },
      "source": [
        "Notice that `sample` is a single list of ordered pairs of numbers (a nested list). Indexing nested lists is best seen by example."
      ]
    },
    {
      "cell_type": "markdown",
      "metadata": {
        "id": "1yMd6nOYQHbq"
      },
      "source": [
        "Try to disect what is happening below."
      ]
    },
    {
      "cell_type": "code",
      "metadata": {
        "id": "770AARI1PxPz"
      },
      "source": [
        "sample[0]"
      ],
      "execution_count": null,
      "outputs": []
    },
    {
      "cell_type": "code",
      "metadata": {
        "id": "K22jS86nQLxz"
      },
      "source": [
        "sample[1]"
      ],
      "execution_count": null,
      "outputs": []
    },
    {
      "cell_type": "code",
      "metadata": {
        "id": "g13oJzXOQNij"
      },
      "source": [
        "sample[1][0]"
      ],
      "execution_count": null,
      "outputs": []
    },
    {
      "cell_type": "code",
      "metadata": {
        "id": "Ir4k9aFLQRdS"
      },
      "source": [
        "sample[1][1]"
      ],
      "execution_count": null,
      "outputs": []
    },
    {
      "cell_type": "markdown",
      "metadata": {
        "id": "IGdA5-JIQYDZ"
      },
      "source": [
        "---\n",
        "> * Q8: **Indexing the list `sample`, output the element with value 7.**\n",
        ">\n",
        "> *(**Note:** You must clear the contents of the code cell below and remove the entire `\"insert math here\"` string. Then, you can define your function in the code block below and call your function for the specified value. Finally, enter the **same math from the cell above** in the **Q8** box.)*"
      ]
    },
    {
      "cell_type": "code",
      "metadata": {
        "id": "Avu43lXOQfvT"
      },
      "source": [
        "\"insert math here\""
      ],
      "execution_count": null,
      "outputs": []
    },
    {
      "cell_type": "code",
      "metadata": {
        "id": "QA9jcvKZ-HXC",
        "cellView": "form"
      },
      "source": [
        "Q8 = \"\" #@param {type:\"string\"}"
      ],
      "execution_count": null,
      "outputs": []
    },
    {
      "cell_type": "markdown",
      "metadata": {
        "id": "fDX4YuwdLp0K"
      },
      "source": [
        "\n",
        "\n",
        "---\n",
        "\n"
      ]
    },
    {
      "cell_type": "markdown",
      "metadata": {
        "id": "YLU8waz_lnQr"
      },
      "source": [
        "\n",
        "\n",
        "---\n",
        "\n",
        "<h1>$\\text{Arrays}$</h1>\n",
        "\n",
        "---\n",
        "\n"
      ]
    },
    {
      "cell_type": "markdown",
      "metadata": {
        "id": "L5rlOX6hlpbC"
      },
      "source": [
        "We have already loaded the `numpy` package to perform some of the included mathematical operations and used them above. The `numpy` package also allows us to use **arrays**, which are great for data manipulation.  **Arrays** are very similar to lists of lists.  However, `numpy` has a lot of built-in functions for manipulating arrays.  We will be using arrays quite often in labs."
      ]
    },
    {
      "cell_type": "markdown",
      "metadata": {
        "id": "n2ieZyVtgniN"
      },
      "source": [
        "Let's create some arrays.  Below is an example of an array with ordered pairs:"
      ]
    },
    {
      "cell_type": "code",
      "metadata": {
        "id": "HOmvv1h7l3B-"
      },
      "source": [
        "np.array([[3,2],[4,5],[7,1]])"
      ],
      "execution_count": null,
      "outputs": []
    },
    {
      "cell_type": "markdown",
      "metadata": {
        "id": "eMUFXN1lmesL"
      },
      "source": [
        "Try the following example below, which demonstrates why arrays are useful when multiplying an array by a scalar. First we will define `array_1`."
      ]
    },
    {
      "cell_type": "code",
      "metadata": {
        "id": "HlPlLeoLmtPQ"
      },
      "source": [
        "array_1 = np.array([1,6,3])"
      ],
      "execution_count": null,
      "outputs": []
    },
    {
      "cell_type": "markdown",
      "metadata": {
        "id": "rPODQi7fJBhM"
      },
      "source": [
        "---\n",
        "> * Q9: **In the code below, define the variable `array_2` to multiply `array_1` by 5.**\n",
        ">\n",
        "> *(**Note:** You must clear the contents of the code cell below and remove the entire `\"write equation here\"` string. Then, you can define your function in the code block below and call your function for the specified value. Finally, enter the output in the **Q9** box.)*"
      ]
    },
    {
      "cell_type": "code",
      "metadata": {
        "id": "1wJIbMwLJA7s"
      },
      "source": [
        "array_2 = \"write equation here\"\n",
        "\n",
        "print(array_2)"
      ],
      "execution_count": null,
      "outputs": []
    },
    {
      "cell_type": "code",
      "metadata": {
        "id": "hEKRFCvzJyuo",
        "cellView": "form"
      },
      "source": [
        "Q9 = \"\" #@param {type:\"string\"}"
      ],
      "execution_count": null,
      "outputs": []
    },
    {
      "cell_type": "markdown",
      "metadata": {
        "id": "hjw-RACYLxGC"
      },
      "source": [
        "\n",
        "\n",
        "---\n",
        "\n"
      ]
    },
    {
      "cell_type": "markdown",
      "metadata": {
        "id": "LXsmkcz5R0cS"
      },
      "source": [
        "\n",
        "\n",
        "---\n",
        "\n",
        "<h1>$\\text{Plotting}$</h1>\n",
        "\n",
        "---\n",
        "\n"
      ]
    },
    {
      "cell_type": "markdown",
      "metadata": {
        "id": "mEefgPuBR_e6"
      },
      "source": [
        "Most of the plotting we will do in this course will be done using the `matplotlib.pyplot` module. We import as follows:"
      ]
    },
    {
      "cell_type": "code",
      "metadata": {
        "id": "jBgqQVIkUXe7"
      },
      "source": [
        "import matplotlib.pyplot as plt"
      ],
      "execution_count": null,
      "outputs": []
    },
    {
      "cell_type": "markdown",
      "metadata": {
        "id": "LSuxxe9HR4LS"
      },
      "source": [
        "\n",
        "\n",
        "---\n",
        "\n",
        "<h2>$\\text{Continuous Variable}$</h2>\n",
        "\n",
        "---\n",
        "\n"
      ]
    },
    {
      "cell_type": "markdown",
      "metadata": {
        "id": "yCPPpaXCR9Fx"
      },
      "source": [
        "To plot an expression of a continuous variable (as opposed to lists of discrete values), we utilize the `plt.plot()` function."
      ]
    },
    {
      "cell_type": "markdown",
      "metadata": {
        "id": "FkYWJC9YV7S-"
      },
      "source": [
        "Let's plot the function $g(x)=x^2$ from [-1,1]."
      ]
    },
    {
      "cell_type": "code",
      "metadata": {
        "id": "xsy_8Q0mT2Vz"
      },
      "source": [
        "x = np.linspace(-1,1)\n",
        "g = x **2"
      ],
      "execution_count": null,
      "outputs": []
    },
    {
      "cell_type": "code",
      "metadata": {
        "id": "bwTim47xT6Tr"
      },
      "source": [
        "plt.plot(x, g)\n",
        "\n",
        "plt.show()"
      ],
      "execution_count": null,
      "outputs": []
    },
    {
      "cell_type": "markdown",
      "metadata": {
        "id": "jHd3R2EJW5bZ"
      },
      "source": [
        "Let's note what we did here. We defined the $x$-range and the mathematical expression we would like to plot. We then populated the `plt.plot()` function with 2 arguments. The first argument is $x$-range we would like to plot over, i.e. [-1,1]. The second argument is the mathematical expression, which in our case is $x^2$."
      ]
    },
    {
      "cell_type": "markdown",
      "metadata": {
        "id": "_z_fsRF5X83B"
      },
      "source": [
        "If we want to label the axes, we can set these options after defining the plot. For example, to label the vertical axis as `r\"$g(x)$\"` and the horizontal axis as `r\"$x$\"` we use the following syntax."
      ]
    },
    {
      "cell_type": "code",
      "metadata": {
        "id": "gi6hVi5SYGTt"
      },
      "source": [
        "plt.plot(x, g)\n",
        "plt.ylabel(\"y-axis\")\n",
        "plt.xlabel(\"x-axis\")\n",
        "plt.show()"
      ],
      "execution_count": null,
      "outputs": []
    },
    {
      "cell_type": "markdown",
      "metadata": {
        "id": "s82xI_tXY5iR"
      },
      "source": [
        "Don't worry too much about trying to remember the specific syntax for options like axes labels. You can always refer back to this Colab notebook for the syntax or use the internet as a resource. If you've developed a nice plot once, you can always go back and copy all its options, and change the specifics such as the labels and functions."
      ]
    },
    {
      "cell_type": "markdown",
      "metadata": {
        "id": "6OQ0H-vLZMyO"
      },
      "source": [
        "\n",
        "\n",
        "---\n",
        "\n",
        "<h2>$\\text{Discrete Variable}$</h2>\n",
        "\n",
        "---\n",
        "\n"
      ]
    },
    {
      "cell_type": "markdown",
      "metadata": {
        "id": "w6A88uDrZR-x"
      },
      "source": [
        "As mentioned, our experimental data is most often stored as lists or arrays of measured values. To create a scatter plot of data in this discrete form, we can do the following.\n",
        "\n",
        "Below is an example list ```mydata``` composed of angles $\\theta\\ (\\text{degrees})$ and ranges $R\\ (\\text{m})$ of launched projectiles, stored in the form \\\n",
        "`[[ θ_1, R_1 ], ... , [ θ_n, R_n ]]`."
      ]
    },
    {
      "cell_type": "markdown",
      "metadata": {
        "id": "LiFaBEAUaZUa"
      },
      "source": [
        "Load some example experimental results into ```mydata``` below."
      ]
    },
    {
      "cell_type": "code",
      "metadata": {
        "id": "2KDFsxFQZH5f"
      },
      "source": [
        "mydata = [[0, 0], [10, 0.22], [25, 0.31], [50, 0.65]]"
      ],
      "execution_count": null,
      "outputs": []
    },
    {
      "cell_type": "markdown",
      "metadata": {
        "id": "fg3tZ9OOak49"
      },
      "source": [
        "---\n",
        "> * Q10: **To plot ```mydata```, we use a similar structure as before, but this time we must first use indexing to pick out our angle and range columns.**"
      ]
    },
    {
      "cell_type": "code",
      "metadata": {
        "id": "W03mh5KYfazd"
      },
      "source": [
        "theta = [m[0] for m in mydata]\n",
        "r = [n[1] for n in mydata]"
      ],
      "execution_count": null,
      "outputs": []
    },
    {
      "cell_type": "markdown",
      "metadata": {
        "id": "5dg0dKCy4fKG"
      },
      "source": [
        "> **We must also add a marker option ```'o'``` in order to change the plot style from a line to points. And, finally, change the axis labels below to `r\"$\\theta$ (degrees)\"` and `r\"$R$ (m)\"`, respectively, to reflect the data we are plotting.**"
      ]
    },
    {
      "cell_type": "code",
      "metadata": {
        "id": "Bhl6Q19LBrNf"
      },
      "source": [
        "plt.plot(theta, r, 'o')\n",
        "plt.ylabel(\"make sure to properly label your y-axis here\")\n",
        "plt.xlabel(\"make sure to properly label your x-axis here\")\n",
        "plt.savefig('Figure_1.png', dpi = 600, bbox_inches = \"tight\")\n",
        "plt.show()"
      ],
      "execution_count": null,
      "outputs": []
    },
    {
      "cell_type": "markdown",
      "metadata": {
        "id": "kjQwSgWpnofb"
      },
      "source": [
        "> *(**Note:** Notice the discrete values (i.e. our measurements) as opposed to the smooth continuous plot of $x^2$ we made.)*"
      ]
    },
    {
      "cell_type": "markdown",
      "metadata": {
        "id": "r4sEujhPsnsl"
      },
      "source": [
        "\n",
        "\n",
        "---\n",
        "\n"
      ]
    },
    {
      "cell_type": "markdown",
      "metadata": {
        "id": "yEpcoOBfuw6N"
      },
      "source": [
        "\n",
        "\n",
        "---\n",
        "\n",
        "<h2>$\\text{Uploading Images}$</h2>\n",
        "\n",
        "---\n",
        "\n"
      ]
    },
    {
      "cell_type": "markdown",
      "metadata": {
        "id": "WHAewBwGvFgB"
      },
      "source": [
        "In this class, you will also make plots either using an embedded tool or using another software. If we want to add images of these plots to our Colaboratory notebook, we will need to upload them to the Colaboratory environment.\n",
        "\n",
        "Below is a graphing tool that allows you to sketch a plot."
      ]
    },
    {
      "cell_type": "markdown",
      "metadata": {
        "id": "GffPcw330aVg"
      },
      "source": [
        "---\n",
        "> * Q11: **Use the plot tool below to sketch a plot of a line with positive slope and a y-intercept of zero.**"
      ]
    },
    {
      "cell_type": "code",
      "metadata": {
        "id": "kw7IuIasl1ix",
        "cellView": "form"
      },
      "source": [
        "#@markdown > Run this cell to open the plot tool.\n",
        "#@markdown >\n",
        "#@markdown > Sketch a plot of a line with positive slope and y-intercept of 0.\n",
        "#@markdown >\n",
        "#@markdown > Click <img src=\"https://drive.google.com/uc?id=1r67BroKL128EjovyzszEjZbNz1CVt2kF\" width=\"40px\" align=\"center\"> to begin your sketch. To change the color of the pen, make sure <img src=\"https://drive.google.com/uc?id=1r67BroKL128EjovyzszEjZbNz1CVt2kF\" width=\"40px\" align=\"center\"> is selected, and click <img src=\"https://drive.google.com/uc?id=1eLvuYcjJiVL0oeYKTWdh6Ets8fFmKR8R\" width=\"40px\" align=\"center\">.\n",
        "\n",
        "\n",
        "from IPython.display import IFrame\n",
        "IFrame(scrolling=\"no\",\n",
        "       src=\"https://www.geogebra.org/material/iframe/id/eztjrz4y/width/600/height/450/border/888888/sfsb/true/smb/true/stb/true/stbh/false/ai/false/asb/false/sri/false/rc/false/ld/false/sdz/true/ctl/false\",\n",
        "       width=\"600px\",\n",
        "       height=\"450px\",\n",
        "       style=\"border:0px;\")"
      ],
      "execution_count": null,
      "outputs": []
    },
    {
      "cell_type": "markdown",
      "metadata": {
        "id": "SVAb_jMn2FKW"
      },
      "source": [
        "> Once you have completed your drawing, on the right top conrner of the sketchpad, click <img src=\"https://drive.google.com/uc?id=1DevZTI6ypOwxfkKFdk9hEHMaCG600h7-\" width=\"40px\" align=\"center\"> > select <img src=\"https://drive.google.com/uc?id=1CjT-XH_jkv3bq13Xx-e6X111BwcaA30F\" width=\"150px\" align=\"center\"> > select <img src=\"https://drive.google.com/uc?id=1iANVfIUhv7FFK6GsHqBWtTYozyAxQXRm\" width=\"150px\" align=\"center\"> > click <img src=\"https://drive.google.com/uc?id=1Fxl8d9jNIjyvVliqTybdK_qPxv6gj9jQ\" width=\"150px\" align=\"center\">\n"
      ]
    },
    {
      "cell_type": "markdown",
      "metadata": {
        "id": "L0dir-2OMcxz"
      },
      "source": [
        "\n",
        "\n",
        "---\n",
        "\n"
      ]
    },
    {
      "cell_type": "markdown",
      "metadata": {
        "id": "6TjL1P2E5_1g"
      },
      "source": [
        "Once you have downloaded the image, you may be asked to give the image a specific file name. In this case, the drawing tool will automatically supply the file name we will use, \"x(t).png\".\n",
        "\n",
        " *This file name is case sensitive and must match exactly what is requested in the Colab notebook, otherwise when you finish the notebook it will produce an error.*"
      ]
    },
    {
      "cell_type": "markdown",
      "metadata": {
        "id": "jTi7XV6JCLFt"
      },
      "source": [
        "To upload an image, click on the Folder icon on the left toolbar. It should look like the image below."
      ]
    },
    {
      "cell_type": "markdown",
      "source": [
        "> <img src=\"https://drive.google.com/uc?id=1zJDI2KUBe5DvopgRP_vsXX-JocrCNtB5\" align = \"center\">\n",
        ">\n",
        "> Figure 1\n",
        "\n",
        "https://drive.google.com/file/d/1zJDI2KUBe5DvopgRP_vsXX-JocrCNtB5/view?usp=sharing\n",
        "\n"
      ],
      "metadata": {
        "id": "1p665a1OcwIT"
      }
    },
    {
      "cell_type": "markdown",
      "metadata": {
        "id": "76uN8vdZFpM0"
      },
      "source": [
        "You will see that Figure_1 that we generated earlier is already here. If you had not generated the plot earlier and used the plt.savefig function, that .png file would not appear here.\n",
        "\n",
        "Next, you will click the upload icon and select which file to upload. After uploading, the menu should look like this:"
      ]
    },
    {
      "cell_type": "markdown",
      "source": [
        "> <img src=\"https://drive.google.com/uc?id=1ZbASIUt6QRJl_yyb1SfBR1XY0fPJo8j6\" align = \"center\">\n",
        ">\n",
        "> Figure 2\n",
        "\n",
        "https://drive.google.com/file/d/1ZbASIUt6QRJl_yyb1SfBR1XY0fPJo8j6/view?usp=sharing\n"
      ],
      "metadata": {
        "id": "PTjTNj5retzJ"
      }
    },
    {
      "cell_type": "markdown",
      "metadata": {
        "id": "09J9oaFVF-Oy"
      },
      "source": [
        "There will be a warning that displays stating that the images will not be saved after the runtime ends. You should save any images you upload on your personal device or cloud-based storage for future reference.\n",
        "\n",
        "*If the \"Files\" Tab instead shows a large list of folders, the file should go into the \"content\" folder. If you image upload is at the bottom of the list, click and drag them to the content folder.*"
      ]
    },
    {
      "cell_type": "markdown",
      "metadata": {
        "id": "h3ehywjJTgEj"
      },
      "source": [
        "\n",
        "---\n",
        "> * Q12: **Now, as shown above, upload \"$\\text{x(t).png}$\" by clicking the \"Files\" folder icon, <img src=\"https://drive.google.com/uc?id=1yzCbxAAm5Z-lnIiCxuXjYdVloopFFcpC\" width=\"35px\" align=\"center\">, on the left toolbar and click the \"Upload\" icon, <img src=\"https://drive.google.com/uc?id=1xFzkrdU-iT6pZhJGEmUfa0yDGDqu9Wxi\" width=\"35px\" align=\"center\">. Find \"$\\text{x(t).png}$\" on your computer.**\n",
        ">\n",
        "> *(**Note:** These file names are case sensitive and must be saved exactly as instructed.)*"
      ]
    },
    {
      "cell_type": "markdown",
      "metadata": {
        "id": "FFADCYSzsph1"
      },
      "source": [
        "\n",
        "\n",
        "---\n",
        "\n"
      ]
    },
    {
      "cell_type": "markdown",
      "metadata": {
        "id": "d5eoCTwQld2U"
      },
      "source": [
        "\n",
        "---\n",
        "\n",
        "<h1>$\\text{Practice}$</h1>\n",
        "\n",
        "---\n"
      ]
    },
    {
      "cell_type": "markdown",
      "metadata": {
        "id": "VEgPQgvalojj"
      },
      "source": [
        "---\n",
        "\n",
        "<h2>$\\text{Data Manipulation}$</h2>\n",
        "\n",
        "---"
      ]
    },
    {
      "cell_type": "markdown",
      "metadata": {
        "id": "9PzODDNKDuT7"
      },
      "source": [
        "<big> Planet name </big> | <big> Period (Earth days) </big> | <big> Semi-major axis (AU) </big>\n",
        ":-: | :-: | :-:\n",
        "<big> KEPLER-10 b </big> | <big> 0.837 </big> | <big> 0.017 </big>\n",
        "<big> KEPLER-41 b </big> | <big> 1.856 </big> | <big> 0.029 </big>\n",
        "<big> KEPLER-1 b </big> | <big> 2.471 </big> | <big> 0.03 </big>\n",
        "<big> KEPLER-8 b </big> | <big> 3.522 </big> | <big> 0.047 </big>\n",
        "<big> KEPLER-48 b </big> | <big> 4.778 </big> | <big> 0.053 </big>\n",
        "<big> KEPLER-25 b </big> | <big> 6.239 </big> | <big> 0.07 </big>\n",
        "<big> KEPLER-18 c </big> | <big> 7.642 </big> | <big> 0.075 </big>\n",
        "<big> KEPLER-11 b </big> | <big> 10.304 </big> | <big> 0.092 </big>\n",
        "<big> KEPLER-29 c </big> | <big> 13.29 </big> | <big> 0.107 </big>\n",
        "<big> KEPLER-18 d </big> | <big> 14.859 </big> | <big> 0.116 </big>\n",
        "<big> KEPLER-36 c </big> | <big> 16.231 </big> | <big> 0.129 </big>\n",
        "<big> KEPLER-9 b </big> | <big> 19.274 </big> | <big> 0.143 </big>\n",
        "<big> KEPLER-39 b </big> | <big> 21.087 </big> | <big> 0.15 </big>\n",
        "<big> KEPLER-11 d </big> | <big> 22.687 </big> | <big> 0.156 </big>\n",
        "<big> KEPLER-30 b </big> | <big> 29.164 </big> | <big> 0.184 </big>\n",
        "<big> KEPLER-11 e </big> | <big> 31.996 </big> | <big> 0.196 </big>\n",
        "<big> KEPLER-9 c </big> | <big> 38.907 </big> | <big> 0.229 </big>\n",
        "<big> KEPLER-11 f </big> | <big> 46.687 </big> | <big> 0.252 </big>\n",
        "<big> KEPLER-30 c </big> | <big> 60.323 </big> | <big> 0.298 </big>\n",
        "<big> KEPLER-11 g </big> | <big> 118.364 </big> | <big> 0.469 </big>\n",
        "<big> KEPLER-30 d </big> | <big> 143.213 </big> | <big> 0.53  </big>\n",
        "\n",
        "**Table 1** - Orbital characteristics for some of the confirmed exoplanets from the Kepler mission."
      ]
    },
    {
      "cell_type": "markdown",
      "metadata": {
        "id": "HYokR_O9mAFK"
      },
      "source": [
        "Table 1 shows the orbital period $T$ (the independent variable) and semi-major axis $a$ (the dependent variable) for some confirmed exoplanets from the Kepler mission. Let's say that we want to calculate $T^2$ for every period in the table.  When making repetitive calculations, you can make use of arrays as outlined above.\n",
        "\n"
      ]
    },
    {
      "cell_type": "markdown",
      "metadata": {
        "id": "P7iLwWg70lbh"
      },
      "source": [
        "---\n",
        "> * Q13: **Define an array `T` for the orbital period and fill it with your data by completing the code below. Each data point should be separated by a comma. Don't forget to run the cell when you are finished. Remember, you must enter the data as floats.**"
      ]
    },
    {
      "cell_type": "code",
      "metadata": {
        "id": "hnmHfKqyu1sT"
      },
      "source": [
        "T = np.array([\"period 1\", \"period 2\", \"period 3\", \"...\"])"
      ],
      "execution_count": null,
      "outputs": []
    },
    {
      "cell_type": "markdown",
      "metadata": {
        "id": "nCgrAZbviXJO"
      },
      "source": [
        "---"
      ]
    },
    {
      "cell_type": "markdown",
      "metadata": {
        "id": "WX3Q1MJJ-v0H"
      },
      "source": [
        "---\n",
        "> * Q14: **Now, we will define a new array `T_squared` and populate it with $T^2$ values.  Remember, to designate an exponent you must use the \"double asterisk\" operator ` ** `, NOT the `^` operator.**"
      ]
    },
    {
      "cell_type": "code",
      "metadata": {
        "id": "5kV3GEAyvNGs"
      },
      "source": [
        "T_squared = \"write equation here\"\n",
        "\n",
        "print(T_squared)"
      ],
      "execution_count": null,
      "outputs": []
    },
    {
      "cell_type": "markdown",
      "metadata": {
        "id": "TJp-5cqAiX8m"
      },
      "source": [
        "---"
      ]
    },
    {
      "cell_type": "markdown",
      "metadata": {
        "id": "UisoD0gl-yjf"
      },
      "source": [
        "---\n",
        "> * Q15: **Repeat the steps in Q13 and Q14 to finish the code below and create a separate array for the semi-major axis data. Use your array to calculate $a^3$ for each data point. Remember, to designate an exponent you must use the \"double asterisk\" operator ` ** ` , NOT the `^` operator.**"
      ]
    },
    {
      "cell_type": "code",
      "metadata": {
        "id": "dFdhw3xyxlXU"
      },
      "source": [
        "a = np.array([\"axis 1\", \"axis 2\", \"axis 3\", \"...\"])\n",
        "a_cubed = \"write equation here\"\n",
        "print(a_cubed)"
      ],
      "execution_count": null,
      "outputs": []
    },
    {
      "cell_type": "markdown",
      "metadata": {
        "id": "kgJ4mLVOjGD_"
      },
      "source": [
        "---"
      ]
    },
    {
      "cell_type": "markdown",
      "metadata": {
        "id": "k6WQzDxGyWTU"
      },
      "source": [
        "---\n",
        "\n",
        "<h2>$\\text{Creating Plots}$</h2>\n",
        "\n",
        "---"
      ]
    },
    {
      "cell_type": "markdown",
      "metadata": {
        "id": "CAzhZGLHznCz"
      },
      "source": [
        "You will now create a plot using your calculated values.  Because we have already listed our data in two separate arrays, `T_squared` and `a_cubed`, we will not need to use indexing to separate our $x$ and $y$ values as shown in the \"Discrete Variable\" section above."
      ]
    },
    {
      "cell_type": "markdown",
      "metadata": {
        "id": "TDTJGAiT-2vf"
      },
      "source": [
        "---\n",
        "> * Q16: **Complete the code below to create a discrete plot of your calculated values.**"
      ]
    },
    {
      "cell_type": "code",
      "metadata": {
        "id": "ZjdK_2Sl0Zft",
        "cellView": "both"
      },
      "source": [
        "plt.plot(X DATA HERE, Y DATA HERE, 'o')\n",
        "plt.ylabel(\"make sure to properly label your y-axis here\")\n",
        "plt.xlabel(\"make sure to properly label your x-axis here\")\n",
        "\n",
        "# do not change anything below this line #\n",
        "\n",
        "plt.savefig('Figure_3.png', dpi = 600, bbox_inches = \"tight\")\n"
      ],
      "execution_count": null,
      "outputs": []
    },
    {
      "cell_type": "markdown",
      "metadata": {
        "id": "ieainccaibsg"
      },
      "source": [
        "---"
      ]
    },
    {
      "cell_type": "markdown",
      "metadata": {
        "id": "U2-5FlKRXEm6"
      },
      "source": [
        "<big> You must use `Shift+Enter` or press the \"play\" arrow <img src=\"https://drive.google.com/uc?id=1p_-EqzaDj0MNnNE3C5e6rMFv6CbaAHuF\" width=\"40px\" align=\"center\"> button in the top left corner of each cell and **run all cells** in the notebook. The cell below compiles all of your responses to short answer questions, the figures you plotted and uploaded, and will watermark the compiled PDF document. You must run this cell for each Pre-Lab and Lab assignment. </big>"
      ]
    },
    {
      "cell_type": "code",
      "metadata": {
        "cellView": "form",
        "id": "XCgVWIMz--Sw"
      },
      "source": [
        "#@markdown # <font color=\"cornflowerblue\">  To receive FULL CREDIT, you MUST run this cell AFTER completing the notebook and upload the PDF file to HuskyCT.\n",
        "\n",
        "#@markdown # <font color=\"cornflowerblue\"> To access the PDF, click on the \"File\" icon in the toolbar to the left.\n",
        "\n",
        "!pip install reportlab\n",
        "import datetime\n",
        "\n",
        "from reportlab.lib import colors\n",
        "from reportlab.lib.pagesizes import letter, inch, portrait\n",
        "from reportlab.platypus import SimpleDocTemplate, Table, TableStyle, Paragraph, Image, PageBreak, Spacer\n",
        "from reportlab.lib.styles import getSampleStyleSheet\n",
        "\n",
        "Course_Number = \"1501Q\"\n",
        "Lab_Number = \"IntroPython\"\n",
        "file_timestamp = datetime.datetime.today().strftime('%Y-%m')\n",
        "Section_Number = (Section)[0:3]\n",
        "\n",
        "doc = SimpleDocTemplate(str(file_timestamp)+\"_\"+str(Course_Number)+\n",
        "                        \"_\"+str(Section_Number)+\"_\"+str(Lab_Number)+\n",
        "                        \"_\"+str(Student_Name)+\".pdf\",\n",
        "                        pagesize=letter, rightMargin=50,\n",
        "                        leftMargin=50, topMargin=50,bottomMargin=50)\n",
        "doc.pagesize = portrait(letter)\n",
        "elements = []\n",
        "\n",
        "timestamp = datetime.datetime.now().isoformat()\n",
        "\n",
        "header = [\n",
        "[\"timestamp:\", str(timestamp)],\n",
        "[\"Course_Number:\", str(Course_Number)],\n",
        "[\"Section_Number:\", str(Section_Number)],\n",
        "[\"Assignment:\", str(Lab_Number)],\n",
        "[\"Student_Name:\", str(Student_Name)],\n",
        "\n",
        "]\n",
        "\n",
        "questions = [\n",
        "[\"\", \"Questions\"],\n",
        "[\"Q1:\", str(Q1)],\n",
        "[\"Q2:\", str(Q2)],\n",
        "[\"Q3:\", str(Q3)],\n",
        "[\"Q4:\", str(Q4)],\n",
        "[\"Q5:\", str(Q5)],\n",
        "[\"Q6:\", str(Q6)],\n",
        "[\"Q7:\", str(Q7)],\n",
        "[\"Q8:\", str(Q8)],\n",
        "[\"Q9:\", str(Q9)],\n",
        "[\"T:\", str(T)],\n",
        "[\"T_squared:\", str(T_squared)],\n",
        "[\"a_cubed:\", str(a_cubed)]\n",
        "\n",
        "]\n",
        "\n",
        "fig1 = Image(\"Figure_1.png\", width = 200, height = 132)\n",
        "fig1.hAlign = 'LEFT'\n",
        "\n",
        "fig2 = Image(\"x(t).png\", width=200, height = 132)\n",
        "fig2.hAlign = 'LEFT'\n",
        "\n",
        "fig3 = Image(\"Figure_3.png\", width = 200, height = 132)\n",
        "fig3.hAlign = 'LEFT'\n",
        "\n",
        "\n",
        "figdata = [\n",
        "[\"Q10\", \"Q12\"],\n",
        "[[fig1], [fig2]],\n",
        "[\"Q16\"],\n",
        "[[fig3]],\n",
        "]\n",
        "\n",
        "#TODO: Get this line right instead of just copying it from the docs\n",
        "style = TableStyle([('ALIGN',(1,1),(-2,-2),'RIGHT'),\n",
        "                       ('TEXTCOLOR',(1,1),(-2,-2),colors.black),\n",
        "                       ('VALIGN',(0,0),(0,-1),'TOP'),\n",
        "                       ('TEXTCOLOR',(0,0),(0,-1),colors.black),\n",
        "                       ('ALIGN',(0,-1),(-1,-1),'CENTER'),\n",
        "                       ('VALIGN',(0,-1),(-1,-1),'MIDDLE'),\n",
        "                       ('TEXTCOLOR',(0,-1),(-1,-1),colors.black),\n",
        "                       ('INNERGRID', (0,0), (-1,-1), 0.25, colors.black),\n",
        "                       ('BOX', (0,0), (-1,-1), 0.25, colors.black),\n",
        "                       ])\n",
        "\n",
        "#Configure style and word wrap\n",
        "s = getSampleStyleSheet()\n",
        "s = s[\"BodyText\"]\n",
        "s.wordWrap = 'CJK'\n",
        "header2 = [[Paragraph(cell, s) for cell in row] for row in header]\n",
        "questions2 = [[Paragraph(cell, s) for cell in row] for row in questions]\n",
        "t1=Table(header2,colWidths=(100,None))\n",
        "t1.setStyle(style)\n",
        "t2=Table(questions2,colWidths=(100,None))\n",
        "t2.setStyle(style)\n",
        "t3=Table(figdata)\n",
        "t3.setStyle(style)\n",
        "\n",
        "#Send the data and build the file\n",
        "elements.append(t1)\n",
        "elements.append(Spacer(1, inch * 0.5))\n",
        "elements.append(t2)\n",
        "elements.append(PageBreak())\n",
        "elements.append(t3)\n",
        "doc.build(elements)"
      ],
      "execution_count": null,
      "outputs": []
    },
    {
      "cell_type": "markdown",
      "metadata": {
        "id": "rf8dMFHGKv7K"
      },
      "source": [
        "---\n",
        "---\n",
        "---\n",
        "\n",
        "<h1>$\\text{End of Notebook}$</h1>\n",
        "\n",
        "---"
      ]
    }
  ]
}